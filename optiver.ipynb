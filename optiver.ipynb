{
  "nbformat": 4,
  "nbformat_minor": 0,
  "metadata": {
    "colab": {
      "provenance": [],
      "mount_file_id": "1zR9JzcTer7gsoFnV2j6AhxQbdUeByZFr",
      "authorship_tag": "ABX9TyOh6wEY/Q6wU7C68YcOQ9Sf",
      "include_colab_link": true
    },
    "kernelspec": {
      "name": "python3",
      "display_name": "Python 3"
    },
    "language_info": {
      "name": "python"
    }
  },
  "cells": [
    {
      "cell_type": "markdown",
      "metadata": {
        "id": "view-in-github",
        "colab_type": "text"
      },
      "source": [
        "<a href=\"https://colab.research.google.com/github/JuanManuelSanchez2022/Optiver/blob/main/optiver.ipynb\" target=\"_parent\"><img src=\"https://colab.research.google.com/assets/colab-badge.svg\" alt=\"Open In Colab\"/></a>"
      ]
    },
    {
      "cell_type": "code",
      "source": [
        "import pandas as pd\n",
        "from gc import collect\n",
        "\n",
        "# Cargar los datos del archivo CSV\n",
        "data = pd.read_csv(\"/content/drive/MyDrive/train.csv\", error_bad_lines=False)\n",
        "\n",
        "# Mostrar los nombres de las columnas\n",
        "print(data.columns)\n",
        "collect()"
      ],
      "metadata": {
        "colab": {
          "base_uri": "https://localhost:8080/"
        },
        "id": "UhapMlr_Rkgx",
        "outputId": "1fb87892-2a94-43d2-d7db-085578c4f234"
      },
      "execution_count": 1,
      "outputs": [
        {
          "output_type": "stream",
          "name": "stderr",
          "text": [
            "<ipython-input-1-4bffba194971>:5: FutureWarning: The error_bad_lines argument has been deprecated and will be removed in a future version. Use on_bad_lines in the future.\n",
            "\n",
            "\n",
            "  data = pd.read_csv(\"/content/drive/MyDrive/train.csv\", error_bad_lines=False)\n"
          ]
        },
        {
          "output_type": "stream",
          "name": "stdout",
          "text": [
            "Index(['stock_id', 'date_id', 'seconds_in_bucket', 'imbalance_size',\n",
            "       'imbalance_buy_sell_flag', 'reference_price', 'matched_size',\n",
            "       'far_price', 'near_price', 'bid_price', 'bid_size', 'ask_price',\n",
            "       'ask_size', 'wap', 'target', 'time_id', 'row_id'],\n",
            "      dtype='object')\n"
          ]
        },
        {
          "output_type": "execute_result",
          "data": {
            "text/plain": [
              "0"
            ]
          },
          "metadata": {},
          "execution_count": 1
        }
      ]
    },
    {
      "cell_type": "code",
      "source": [
        "df = pd.read_csv(\"/content/drive/MyDrive/train.csv\")"
      ],
      "metadata": {
        "id": "WUKUNPBsT5RL"
      },
      "execution_count": 2,
      "outputs": []
    },
    {
      "cell_type": "code",
      "source": [
        "df = df.assign(Prediction=0.0)"
      ],
      "metadata": {
        "id": "bbLD7Y4jUciq"
      },
      "execution_count": 3,
      "outputs": []
    },
    {
      "cell_type": "code",
      "source": [
        "df.dtypes"
      ],
      "metadata": {
        "colab": {
          "base_uri": "https://localhost:8080/"
        },
        "id": "5TOvbBbGalax",
        "outputId": "24b954f6-2551-4868-fb31-50c06e9361b0"
      },
      "execution_count": 4,
      "outputs": [
        {
          "output_type": "execute_result",
          "data": {
            "text/plain": [
              "stock_id                     int64\n",
              "date_id                      int64\n",
              "seconds_in_bucket            int64\n",
              "imbalance_size             float64\n",
              "imbalance_buy_sell_flag      int64\n",
              "reference_price            float64\n",
              "matched_size               float64\n",
              "far_price                  float64\n",
              "near_price                 float64\n",
              "bid_price                  float64\n",
              "bid_size                   float64\n",
              "ask_price                  float64\n",
              "ask_size                   float64\n",
              "wap                        float64\n",
              "target                     float64\n",
              "time_id                    float64\n",
              "row_id                      object\n",
              "Prediction                 float64\n",
              "dtype: object"
            ]
          },
          "metadata": {},
          "execution_count": 4
        }
      ]
    },
    {
      "cell_type": "code",
      "source": [
        "convert = ['stock_id', 'date_id', 'seconds_in_bucket', 'imbalance_buy_sell_flag', 'time_id', 'Prediction']\n",
        "df[convert] = df[convert].astype(float)"
      ],
      "metadata": {
        "id": "qyIZmvX6ayt_"
      },
      "execution_count": 5,
      "outputs": []
    },
    {
      "cell_type": "code",
      "source": [
        "#   ELIMINAR COLUMNA ROW_ID\n",
        "\n",
        "#columnas_a_eliminar = ['row_id']\n",
        "#df = df.drop(columnas_a_eliminar, axis=1)\n",
        "\n",
        "# Verificar el DataFrame resultante\n",
        "#print(df)"
      ],
      "metadata": {
        "id": "8XSu8GbheW45"
      },
      "execution_count": 6,
      "outputs": []
    },
    {
      "cell_type": "code",
      "source": [
        "# Rellenar los campos vacíos (NaN) con cero (0)\n",
        "df = df.fillna(0)\n",
        "\n",
        "# Verificar el DataFrame resultante\n",
        "print(df)"
      ],
      "metadata": {
        "colab": {
          "base_uri": "https://localhost:8080/"
        },
        "id": "gFiOvoBEVvXh",
        "outputId": "78ddfa56-5d41-4e11-cb67-ef0f732e94ed"
      },
      "execution_count": 7,
      "outputs": [
        {
          "output_type": "stream",
          "name": "stdout",
          "text": [
            "         stock_id  date_id  seconds_in_bucket  imbalance_size  \\\n",
            "0             0.0      0.0                0.0      3180602.69   \n",
            "1             1.0      0.0                0.0       166603.91   \n",
            "2             2.0      0.0                0.0       302879.87   \n",
            "3             3.0      0.0                0.0     11917682.27   \n",
            "4             4.0      0.0                0.0       447549.96   \n",
            "...           ...      ...                ...             ...   \n",
            "4525536     156.0    416.0              120.0            0.00   \n",
            "4525537     157.0    416.0              120.0      6278711.97   \n",
            "4525538     158.0    416.0              120.0       800164.45   \n",
            "4525539     159.0    416.0              120.0      1959915.12   \n",
            "4525540     160.0    416.0              120.0      8453916.92   \n",
            "\n",
            "         imbalance_buy_sell_flag  reference_price  matched_size  far_price  \\\n",
            "0                            1.0         0.999812   13380276.64        0.0   \n",
            "1                           -1.0         0.999896    1642214.25        0.0   \n",
            "2                           -1.0         0.999561    1819368.03        0.0   \n",
            "3                           -1.0         1.000171   18389745.62        0.0   \n",
            "4                           -1.0         0.999532   17860614.95        0.0   \n",
            "...                          ...              ...           ...        ...   \n",
            "4525536                      0.0         1.000600    2193358.81        0.0   \n",
            "4525537                      1.0         1.000748   12445311.28        0.0   \n",
            "4525538                      1.0         0.998986    1925749.87        0.0   \n",
            "4525539                     -1.0         1.000110    3343672.90        0.0   \n",
            "4525540                      1.0         0.999974   62873032.85        0.0   \n",
            "\n",
            "         near_price  bid_price  bid_size  ask_price   ask_size       wap  \\\n",
            "0               0.0   0.999812  60651.50   1.000026    8493.03  1.000000   \n",
            "1               0.0   0.999896   3233.04   1.000660   20605.09  1.000000   \n",
            "2               0.0   0.999403  37956.00   1.000298   18995.00  1.000000   \n",
            "3               0.0   0.999999   2324.90   1.000214  479032.40  1.000000   \n",
            "4               0.0   0.999394  16485.54   1.000016     434.10  1.000000   \n",
            "...             ...        ...       ...        ...        ...       ...   \n",
            "4525536         0.0   0.999290  58621.29   1.000600   94399.84  0.999792   \n",
            "4525537         0.0   1.000350   3825.65   1.001046   22163.90  1.000453   \n",
            "4525538         0.0   0.998685   6221.86   0.998986   40057.05  0.998725   \n",
            "4525539         0.0   1.000110  37092.87   1.000469   34543.30  1.000296   \n",
            "4525540         0.0   0.999864  58799.00   0.999974   28769.00  0.000000   \n",
            "\n",
            "            target  time_id       row_id  Prediction  \n",
            "0        -3.029704      0.0        0_0_0         0.0  \n",
            "1        -5.519986      0.0        0_0_1         0.0  \n",
            "2        -8.389950      0.0        0_0_2         0.0  \n",
            "3        -4.010200      0.0        0_0_3         0.0  \n",
            "4        -7.349849      0.0        0_0_4         0.0  \n",
            "...            ...      ...          ...         ...  \n",
            "4525536   1.829863  22892.0  416_120_156         0.0  \n",
            "4525537   3.939867  22892.0  416_120_157         0.0  \n",
            "4525538 -18.050076  22892.0  416_120_158         0.0  \n",
            "4525539  15.029907  22892.0  416_120_159         0.0  \n",
            "4525540   0.000000      0.0            0         0.0  \n",
            "\n",
            "[4525541 rows x 18 columns]\n"
          ]
        }
      ]
    },
    {
      "cell_type": "code",
      "source": [
        "columnas_con_nan = df.columns[df.isna().any()].tolist()\n",
        "\n",
        "print(\"Columnas con valores NaN:\")\n",
        "print(columnas_con_nan)"
      ],
      "metadata": {
        "colab": {
          "base_uri": "https://localhost:8080/"
        },
        "id": "K36Vg-UKgwEo",
        "outputId": "85da9fc1-e58c-49ed-b12b-ed495c913503"
      },
      "execution_count": 8,
      "outputs": [
        {
          "output_type": "stream",
          "name": "stdout",
          "text": [
            "Columnas con valores NaN:\n",
            "[]\n"
          ]
        }
      ]
    },
    {
      "cell_type": "code",
      "source": [
        "import pandas as pd\n",
        "import numpy as np\n",
        "\n",
        "# Cargar los datos del archivo CSV\n",
        "data = df\n",
        "\n",
        "# Extraer las columnas de valores reales y predicciones\n",
        "values_real = data[\"reference_price\"]\n",
        "predictions = data[\"Prediction\"]\n",
        "\n",
        "# Calcular el MAE\n",
        "mae = np.mean(np.abs(values_real - predictions))\n",
        "\n",
        "print(f\"Error Absoluto Medio (MAE): {mae}\")"
      ],
      "metadata": {
        "colab": {
          "base_uri": "https://localhost:8080/"
        },
        "id": "-kq2sBpcSBaG",
        "outputId": "abb09078-1ed9-4062-81ea-176d8abb5f77"
      },
      "execution_count": 9,
      "outputs": [
        {
          "output_type": "stream",
          "name": "stdout",
          "text": [
            "Error Absoluto Medio (MAE): 0.9999650600708294\n"
          ]
        }
      ]
    },
    {
      "cell_type": "code",
      "source": [
        "# Calcular la nueva columna usando la fórmula\n",
        "df['Prediction'] = (df['bid_price'] * df['ask_size'] + df['ask_price'] * df['bid_size']) / (df['bid_size'] + df['ask_size'])\n",
        "\n",
        "# Verificar el DataFrame resultante\n",
        "print(df)"
      ],
      "metadata": {
        "colab": {
          "base_uri": "https://localhost:8080/"
        },
        "id": "T888ZLGhpSx6",
        "outputId": "77ea511b-0e1e-473b-887d-f831201fe81e"
      },
      "execution_count": 10,
      "outputs": [
        {
          "output_type": "stream",
          "name": "stdout",
          "text": [
            "         stock_id  date_id  seconds_in_bucket  imbalance_size  \\\n",
            "0             0.0      0.0                0.0      3180602.69   \n",
            "1             1.0      0.0                0.0       166603.91   \n",
            "2             2.0      0.0                0.0       302879.87   \n",
            "3             3.0      0.0                0.0     11917682.27   \n",
            "4             4.0      0.0                0.0       447549.96   \n",
            "...           ...      ...                ...             ...   \n",
            "4525536     156.0    416.0              120.0            0.00   \n",
            "4525537     157.0    416.0              120.0      6278711.97   \n",
            "4525538     158.0    416.0              120.0       800164.45   \n",
            "4525539     159.0    416.0              120.0      1959915.12   \n",
            "4525540     160.0    416.0              120.0      8453916.92   \n",
            "\n",
            "         imbalance_buy_sell_flag  reference_price  matched_size  far_price  \\\n",
            "0                            1.0         0.999812   13380276.64        0.0   \n",
            "1                           -1.0         0.999896    1642214.25        0.0   \n",
            "2                           -1.0         0.999561    1819368.03        0.0   \n",
            "3                           -1.0         1.000171   18389745.62        0.0   \n",
            "4                           -1.0         0.999532   17860614.95        0.0   \n",
            "...                          ...              ...           ...        ...   \n",
            "4525536                      0.0         1.000600    2193358.81        0.0   \n",
            "4525537                      1.0         1.000748   12445311.28        0.0   \n",
            "4525538                      1.0         0.998986    1925749.87        0.0   \n",
            "4525539                     -1.0         1.000110    3343672.90        0.0   \n",
            "4525540                      1.0         0.999974   62873032.85        0.0   \n",
            "\n",
            "         near_price  bid_price  bid_size  ask_price   ask_size       wap  \\\n",
            "0               0.0   0.999812  60651.50   1.000026    8493.03  1.000000   \n",
            "1               0.0   0.999896   3233.04   1.000660   20605.09  1.000000   \n",
            "2               0.0   0.999403  37956.00   1.000298   18995.00  1.000000   \n",
            "3               0.0   0.999999   2324.90   1.000214  479032.40  1.000000   \n",
            "4               0.0   0.999394  16485.54   1.000016     434.10  1.000000   \n",
            "...             ...        ...       ...        ...        ...       ...   \n",
            "4525536         0.0   0.999290  58621.29   1.000600   94399.84  0.999792   \n",
            "4525537         0.0   1.000350   3825.65   1.001046   22163.90  1.000453   \n",
            "4525538         0.0   0.998685   6221.86   0.998986   40057.05  0.998725   \n",
            "4525539         0.0   1.000110  37092.87   1.000469   34543.30  1.000296   \n",
            "4525540         0.0   0.999864  58799.00   0.999974   28769.00  0.000000   \n",
            "\n",
            "            target  time_id       row_id  Prediction  \n",
            "0        -3.029704      0.0        0_0_0    1.000000  \n",
            "1        -5.519986      0.0        0_0_1    1.000000  \n",
            "2        -8.389950      0.0        0_0_2    0.999999  \n",
            "3        -4.010200      0.0        0_0_3    1.000000  \n",
            "4        -7.349849      0.0        0_0_4    1.000000  \n",
            "...            ...      ...          ...         ...  \n",
            "4525536   1.829863  22892.0  416_120_156    0.999792  \n",
            "4525537   3.939867  22892.0  416_120_157    1.000452  \n",
            "4525538 -18.050076  22892.0  416_120_158    0.998725  \n",
            "4525539  15.029907  22892.0  416_120_159    1.000296  \n",
            "4525540   0.000000      0.0            0    0.999938  \n",
            "\n",
            "[4525541 rows x 18 columns]\n"
          ]
        }
      ]
    },
    {
      "cell_type": "code",
      "source": [
        "df.dtypes"
      ],
      "metadata": {
        "colab": {
          "base_uri": "https://localhost:8080/"
        },
        "id": "5jbJYsj-FaaC",
        "outputId": "7bfcafb4-b69d-41c7-957d-75e379dcc98d"
      },
      "execution_count": 11,
      "outputs": [
        {
          "output_type": "execute_result",
          "data": {
            "text/plain": [
              "stock_id                   float64\n",
              "date_id                    float64\n",
              "seconds_in_bucket          float64\n",
              "imbalance_size             float64\n",
              "imbalance_buy_sell_flag    float64\n",
              "reference_price            float64\n",
              "matched_size               float64\n",
              "far_price                  float64\n",
              "near_price                 float64\n",
              "bid_price                  float64\n",
              "bid_size                   float64\n",
              "ask_price                  float64\n",
              "ask_size                   float64\n",
              "wap                        float64\n",
              "target                     float64\n",
              "time_id                    float64\n",
              "row_id                      object\n",
              "Prediction                 float64\n",
              "dtype: object"
            ]
          },
          "metadata": {},
          "execution_count": 11
        }
      ]
    },
    {
      "cell_type": "code",
      "source": [
        "# Calcular la nueva columna \"Target\"\n",
        "df['target'] = (((df['StockWAPt'] + 60) / df['StockWAPt']) - ((df['IndexWAPt'] + 60) / df['IndexWAPt'])) * 10000\n",
        "\n",
        "# Verificar el DataFrame resultante\n",
        "print(df)"
      ],
      "metadata": {
        "colab": {
          "base_uri": "https://localhost:8080/",
          "height": 533
        },
        "id": "a_iAov8ktvki",
        "outputId": "864016de-3fd1-45f6-f048-dcb18783fee7"
      },
      "execution_count": 12,
      "outputs": [
        {
          "output_type": "error",
          "ename": "KeyError",
          "evalue": "ignored",
          "traceback": [
            "\u001b[0;31m---------------------------------------------------------------------------\u001b[0m",
            "\u001b[0;31mKeyError\u001b[0m                                  Traceback (most recent call last)",
            "\u001b[0;32m/usr/local/lib/python3.10/dist-packages/pandas/core/indexes/base.py\u001b[0m in \u001b[0;36mget_loc\u001b[0;34m(self, key, method, tolerance)\u001b[0m\n\u001b[1;32m   3801\u001b[0m             \u001b[0;32mtry\u001b[0m\u001b[0;34m:\u001b[0m\u001b[0;34m\u001b[0m\u001b[0;34m\u001b[0m\u001b[0m\n\u001b[0;32m-> 3802\u001b[0;31m                 \u001b[0;32mreturn\u001b[0m \u001b[0mself\u001b[0m\u001b[0;34m.\u001b[0m\u001b[0m_engine\u001b[0m\u001b[0;34m.\u001b[0m\u001b[0mget_loc\u001b[0m\u001b[0;34m(\u001b[0m\u001b[0mcasted_key\u001b[0m\u001b[0;34m)\u001b[0m\u001b[0;34m\u001b[0m\u001b[0;34m\u001b[0m\u001b[0m\n\u001b[0m\u001b[1;32m   3803\u001b[0m             \u001b[0;32mexcept\u001b[0m \u001b[0mKeyError\u001b[0m \u001b[0;32mas\u001b[0m \u001b[0merr\u001b[0m\u001b[0;34m:\u001b[0m\u001b[0;34m\u001b[0m\u001b[0;34m\u001b[0m\u001b[0m\n",
            "\u001b[0;32m/usr/local/lib/python3.10/dist-packages/pandas/_libs/index.pyx\u001b[0m in \u001b[0;36mpandas._libs.index.IndexEngine.get_loc\u001b[0;34m()\u001b[0m\n",
            "\u001b[0;32m/usr/local/lib/python3.10/dist-packages/pandas/_libs/index.pyx\u001b[0m in \u001b[0;36mpandas._libs.index.IndexEngine.get_loc\u001b[0;34m()\u001b[0m\n",
            "\u001b[0;32mpandas/_libs/hashtable_class_helper.pxi\u001b[0m in \u001b[0;36mpandas._libs.hashtable.PyObjectHashTable.get_item\u001b[0;34m()\u001b[0m\n",
            "\u001b[0;32mpandas/_libs/hashtable_class_helper.pxi\u001b[0m in \u001b[0;36mpandas._libs.hashtable.PyObjectHashTable.get_item\u001b[0;34m()\u001b[0m\n",
            "\u001b[0;31mKeyError\u001b[0m: 'StockWAPt'",
            "\nThe above exception was the direct cause of the following exception:\n",
            "\u001b[0;31mKeyError\u001b[0m                                  Traceback (most recent call last)",
            "\u001b[0;32m<ipython-input-12-78238693cb53>\u001b[0m in \u001b[0;36m<cell line: 2>\u001b[0;34m()\u001b[0m\n\u001b[1;32m      1\u001b[0m \u001b[0;31m# Calcular la nueva columna \"Target\"\u001b[0m\u001b[0;34m\u001b[0m\u001b[0;34m\u001b[0m\u001b[0m\n\u001b[0;32m----> 2\u001b[0;31m \u001b[0mdf\u001b[0m\u001b[0;34m[\u001b[0m\u001b[0;34m'target'\u001b[0m\u001b[0;34m]\u001b[0m \u001b[0;34m=\u001b[0m \u001b[0;34m(\u001b[0m\u001b[0;34m(\u001b[0m\u001b[0;34m(\u001b[0m\u001b[0mdf\u001b[0m\u001b[0;34m[\u001b[0m\u001b[0;34m'StockWAPt'\u001b[0m\u001b[0;34m]\u001b[0m \u001b[0;34m+\u001b[0m \u001b[0;36m60\u001b[0m\u001b[0;34m)\u001b[0m \u001b[0;34m/\u001b[0m \u001b[0mdf\u001b[0m\u001b[0;34m[\u001b[0m\u001b[0;34m'StockWAPt'\u001b[0m\u001b[0;34m]\u001b[0m\u001b[0;34m)\u001b[0m \u001b[0;34m-\u001b[0m \u001b[0;34m(\u001b[0m\u001b[0;34m(\u001b[0m\u001b[0mdf\u001b[0m\u001b[0;34m[\u001b[0m\u001b[0;34m'IndexWAPt'\u001b[0m\u001b[0;34m]\u001b[0m \u001b[0;34m+\u001b[0m \u001b[0;36m60\u001b[0m\u001b[0;34m)\u001b[0m \u001b[0;34m/\u001b[0m \u001b[0mdf\u001b[0m\u001b[0;34m[\u001b[0m\u001b[0;34m'IndexWAPt'\u001b[0m\u001b[0;34m]\u001b[0m\u001b[0;34m)\u001b[0m\u001b[0;34m)\u001b[0m \u001b[0;34m*\u001b[0m \u001b[0;36m10000\u001b[0m\u001b[0;34m\u001b[0m\u001b[0;34m\u001b[0m\u001b[0m\n\u001b[0m\u001b[1;32m      3\u001b[0m \u001b[0;34m\u001b[0m\u001b[0m\n\u001b[1;32m      4\u001b[0m \u001b[0;31m# Verificar el DataFrame resultante\u001b[0m\u001b[0;34m\u001b[0m\u001b[0;34m\u001b[0m\u001b[0m\n\u001b[1;32m      5\u001b[0m \u001b[0mprint\u001b[0m\u001b[0;34m(\u001b[0m\u001b[0mdf\u001b[0m\u001b[0;34m)\u001b[0m\u001b[0;34m\u001b[0m\u001b[0;34m\u001b[0m\u001b[0m\n",
            "\u001b[0;32m/usr/local/lib/python3.10/dist-packages/pandas/core/frame.py\u001b[0m in \u001b[0;36m__getitem__\u001b[0;34m(self, key)\u001b[0m\n\u001b[1;32m   3805\u001b[0m             \u001b[0;32mif\u001b[0m \u001b[0mself\u001b[0m\u001b[0;34m.\u001b[0m\u001b[0mcolumns\u001b[0m\u001b[0;34m.\u001b[0m\u001b[0mnlevels\u001b[0m \u001b[0;34m>\u001b[0m \u001b[0;36m1\u001b[0m\u001b[0;34m:\u001b[0m\u001b[0;34m\u001b[0m\u001b[0;34m\u001b[0m\u001b[0m\n\u001b[1;32m   3806\u001b[0m                 \u001b[0;32mreturn\u001b[0m \u001b[0mself\u001b[0m\u001b[0;34m.\u001b[0m\u001b[0m_getitem_multilevel\u001b[0m\u001b[0;34m(\u001b[0m\u001b[0mkey\u001b[0m\u001b[0;34m)\u001b[0m\u001b[0;34m\u001b[0m\u001b[0;34m\u001b[0m\u001b[0m\n\u001b[0;32m-> 3807\u001b[0;31m             \u001b[0mindexer\u001b[0m \u001b[0;34m=\u001b[0m \u001b[0mself\u001b[0m\u001b[0;34m.\u001b[0m\u001b[0mcolumns\u001b[0m\u001b[0;34m.\u001b[0m\u001b[0mget_loc\u001b[0m\u001b[0;34m(\u001b[0m\u001b[0mkey\u001b[0m\u001b[0;34m)\u001b[0m\u001b[0;34m\u001b[0m\u001b[0;34m\u001b[0m\u001b[0m\n\u001b[0m\u001b[1;32m   3808\u001b[0m             \u001b[0;32mif\u001b[0m \u001b[0mis_integer\u001b[0m\u001b[0;34m(\u001b[0m\u001b[0mindexer\u001b[0m\u001b[0;34m)\u001b[0m\u001b[0;34m:\u001b[0m\u001b[0;34m\u001b[0m\u001b[0;34m\u001b[0m\u001b[0m\n\u001b[1;32m   3809\u001b[0m                 \u001b[0mindexer\u001b[0m \u001b[0;34m=\u001b[0m \u001b[0;34m[\u001b[0m\u001b[0mindexer\u001b[0m\u001b[0;34m]\u001b[0m\u001b[0;34m\u001b[0m\u001b[0;34m\u001b[0m\u001b[0m\n",
            "\u001b[0;32m/usr/local/lib/python3.10/dist-packages/pandas/core/indexes/base.py\u001b[0m in \u001b[0;36mget_loc\u001b[0;34m(self, key, method, tolerance)\u001b[0m\n\u001b[1;32m   3802\u001b[0m                 \u001b[0;32mreturn\u001b[0m \u001b[0mself\u001b[0m\u001b[0;34m.\u001b[0m\u001b[0m_engine\u001b[0m\u001b[0;34m.\u001b[0m\u001b[0mget_loc\u001b[0m\u001b[0;34m(\u001b[0m\u001b[0mcasted_key\u001b[0m\u001b[0;34m)\u001b[0m\u001b[0;34m\u001b[0m\u001b[0;34m\u001b[0m\u001b[0m\n\u001b[1;32m   3803\u001b[0m             \u001b[0;32mexcept\u001b[0m \u001b[0mKeyError\u001b[0m \u001b[0;32mas\u001b[0m \u001b[0merr\u001b[0m\u001b[0;34m:\u001b[0m\u001b[0;34m\u001b[0m\u001b[0;34m\u001b[0m\u001b[0m\n\u001b[0;32m-> 3804\u001b[0;31m                 \u001b[0;32mraise\u001b[0m \u001b[0mKeyError\u001b[0m\u001b[0;34m(\u001b[0m\u001b[0mkey\u001b[0m\u001b[0;34m)\u001b[0m \u001b[0;32mfrom\u001b[0m \u001b[0merr\u001b[0m\u001b[0;34m\u001b[0m\u001b[0;34m\u001b[0m\u001b[0m\n\u001b[0m\u001b[1;32m   3805\u001b[0m             \u001b[0;32mexcept\u001b[0m \u001b[0mTypeError\u001b[0m\u001b[0;34m:\u001b[0m\u001b[0;34m\u001b[0m\u001b[0;34m\u001b[0m\u001b[0m\n\u001b[1;32m   3806\u001b[0m                 \u001b[0;31m# If we have a listlike key, _check_indexing_error will raise\u001b[0m\u001b[0;34m\u001b[0m\u001b[0;34m\u001b[0m\u001b[0m\n",
            "\u001b[0;31mKeyError\u001b[0m: 'StockWAPt'"
          ]
        }
      ]
    },
    {
      "cell_type": "code",
      "source": [],
      "metadata": {
        "id": "0NKeCF5NvgaQ"
      },
      "execution_count": null,
      "outputs": []
    }
  ]
}